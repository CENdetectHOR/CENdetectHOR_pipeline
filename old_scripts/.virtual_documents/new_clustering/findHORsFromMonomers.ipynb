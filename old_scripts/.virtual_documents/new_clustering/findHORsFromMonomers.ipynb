import numpy as np
import matplotlib.pyplot as plt
from iterativeClustering import clusterings_with_hors
from cluster import build_seqs_distance_matrix, distance_values
from Bio import SeqIO
from Bio import Phylo
from showHOR import show_hor, show_hors, show_hor_tree
from featureUtils import BED_file_to_features, feature_to_seq
#from phylogeny_sorting import sort_phylogeny_by_leaf_names



references = [ seq for seq in SeqIO.parse("/Users/alessiadaponte/Desktop/fullHSAcons_clean_noDupFam_noMono.fasta", "fasta")]


monomers_as_features = BED_file_to_features("./data/monomers/chr2_StringDecMon2extr_noMorgante.bed")


seq_names=[seq.id for seq in references]
seq_names
with open("seq_names.txt", "w") as o:
    for x in seq_names:
        o.write(x+'\n')


[(feature.location.start, feature.__len__()) for feature in monomers_as_features if feature.__len__() < 70]


# sample monomers for testing purposes (comment out for complete analysis)

# sample_size = 60
# num_samples = 5

# sample_page = len(monomers_as_features) // num_samples
# sample_offset = (sample_page - sample_size) // 2

# def slice_seq(seq, position, length):
#     return seq[position : position + length]

# monomers_as_features = [
#     monomer
#     for sample_index in range(num_samples)
#     for monomer in slice_seq(monomers_as_features, sample_index * sample_page + sample_offset, sample_size)
# ]


monomers_as_seqs = [feature_to_seq(feature, references) for feature in monomers_as_features]



l=max_len(references)


monomer_dists = build_seqs_distance_matrix(references)


rows, cols = np.shape(monomer_dists)
new_dists = np.zeros((rows, cols), dtype=np.float64)
for r in range(rows):
    for c in range(cols):
        new_dists[r,c] = (1.0 - monomer_dists[r,c] / l) * 100.0
np.savetxt("test.tsv", new_dists, delimiter="\t")


new_dists


def max_len(strings):
    return max([len(s) for s in strings])


dist_values = distance_values(new_dists)
plt.hist(dist_values, bins=int(max(dist_values)))



plt.matshow(monomer_dists)


phyloXml, hor_tree_root, clusterings = clusterings_with_hors(monomer_seqs=monomers_as_seqs, monomers_as_features=monomers_as_features, distance_matrix=monomer_dists, min_len_loop=1, min_loop_reps=5, max_len_loop=1000)


[
    [str(loop)
    for loop in clustering.loops]
    for clustering in clusterings
]


[
    str(clustering)
    for clustering in clusterings
]


phylogeny = phyloXml.phylogenies[0]


Phylo.draw(phylogeny)


sort_phylogeny_by_leaf_names(phylogeny)
Phylo.draw(phylogeny)


show_hor_tree(hor_tree_root, references['chr2:10940332-15983263'], phylogeny)


tree_output_filename = f'data/vitis/clusterings/test.tree.xml'
Phylo.write(phyloXml, tree_output_filename, format='phyloxml')
