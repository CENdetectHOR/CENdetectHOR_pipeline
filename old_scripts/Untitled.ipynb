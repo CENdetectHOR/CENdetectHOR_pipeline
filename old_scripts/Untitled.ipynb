{
 "cells": [
  {
   "cell_type": "code",
   "execution_count": 3,
   "id": "985f516c-3bb7-4067-aa3f-356b54761935",
   "metadata": {},
   "outputs": [
    {
     "name": "stderr",
     "output_type": "stream",
     "text": [
      "/Users/alessiadaponte/recas/CENdetectHOR/scripts/phylogeny_to_levels.py:107: SyntaxWarning: invalid escape sequence '\\['\n",
      "  location_pattern = re.compile(\"(.*)\\[([0-9]+):([0-9]+)\\]\\((\\+|-)\\)\")\n"
     ]
    }
   ],
   "source": [
    "import numpy as np\n",
    "import matplotlib.pyplot as plt\n",
    "from cluster import distance_values\n",
    "from Bio import SeqIO\n",
    "from Bio import Phylo\n",
    "from showHOR import show_hor, show_hors, show_hor_tree\n",
    "from featureUtils import BED_file_to_features, feature_to_seq, remove_overlapping_features\n",
    "from parallel_distance import build_seqs_distance_matrix_by_chunks, FileSystemChunkStore\n",
    "from hor import hor_tree_to_phylogeny\n",
    "from hor_tree import phylogeny_to_hor_tree, find_inversion_hors\n",
    "from Bio.Phylo.PhyloXML import Phyloxml\n",
    "from Bio.Phylo import PhyloXMLIO\n",
    "from clustering_to_phylogeny import clustering_to_phylogeny\n",
    "from mixed_direction_hors import find_inversion_loops\n",
    "import sys\n",
    "import argparse"
   ]
  },
  {
   "cell_type": "code",
   "execution_count": 5,
   "id": "4001525c-d0ca-47ec-a77d-e62fd233003f",
   "metadata": {},
   "outputs": [],
   "source": [
    "seq=\"../fullHSAcons_clean_noDupFam.fasta\"\n"
   ]
  },
  {
   "cell_type": "code",
   "execution_count": 10,
   "id": "6d55c035-5e4b-4169-89e4-8e5a295b3f28",
   "metadata": {
    "tags": []
   },
   "outputs": [
    {
     "ename": "AttributeError",
     "evalue": "'str' object has no attribute 'seq'",
     "output_type": "error",
     "traceback": [
      "\u001b[0;31m---------------------------------------------------------------------------\u001b[0m",
      "\u001b[0;31mAttributeError\u001b[0m                            Traceback (most recent call last)",
      "Cell \u001b[0;32mIn[10], line 13\u001b[0m\n\u001b[1;32m      1\u001b[0m monomers \u001b[38;5;241m=\u001b[39m {seq\u001b[38;5;241m.\u001b[39mid : seq \u001b[38;5;28;01mfor\u001b[39;00m seq \u001b[38;5;129;01min\u001b[39;00m SeqIO\u001b[38;5;241m.\u001b[39mparse(seq, \u001b[38;5;124m\"\u001b[39m\u001b[38;5;124mfasta\u001b[39m\u001b[38;5;124m\"\u001b[39m)}\n\u001b[1;32m      3\u001b[0m \u001b[38;5;66;03m#monomers_as_features = BED_file_to_features(bed)\u001b[39;00m\n\u001b[1;32m      4\u001b[0m \n\u001b[1;32m      5\u001b[0m \u001b[38;5;66;03m#monomers_as_seqs = [feature_to_seq(feature, references) for feature in monomers_as_features]\u001b[39;00m\n\u001b[0;32m   (...)\u001b[0m\n\u001b[1;32m     10\u001b[0m \u001b[38;5;66;03m#    max_allowed_overlap_fraction=0.25\u001b[39;00m\n\u001b[1;32m     11\u001b[0m \u001b[38;5;66;03m#)\u001b[39;00m\n\u001b[0;32m---> 13\u001b[0m monomer_dists \u001b[38;5;241m=\u001b[39m build_seqs_distance_matrix_by_chunks(monomers, num_chunks\u001b[38;5;241m=\u001b[39m\u001b[38;5;241m1\u001b[39m, chunk_store\u001b[38;5;241m=\u001b[39mFileSystemChunkStore(\u001b[38;5;124m\"\u001b[39m\u001b[38;5;124mtest_\u001b[39m\u001b[38;5;132;01m{row}\u001b[39;00m\u001b[38;5;124m_\u001b[39m\u001b[38;5;132;01m{col}\u001b[39;00m\u001b[38;5;124m\"\u001b[39m))\n",
      "File \u001b[0;32m~/recas/CENdetectHOR/scripts/parallel_distance.py:361\u001b[0m, in \u001b[0;36mbuild_seqs_distance_matrix_by_chunks\u001b[0;34m(seqs, num_chunks, max_num_processes, chunk_store)\u001b[0m\n\u001b[1;32m    354\u001b[0m \u001b[38;5;28;01mdef\u001b[39;00m \u001b[38;5;21mbuild_seqs_distance_matrix_by_chunks\u001b[39m(\n\u001b[1;32m    355\u001b[0m     seqs: \u001b[38;5;28mlist\u001b[39m[SeqRecord],\n\u001b[1;32m    356\u001b[0m     num_chunks: \u001b[38;5;28mint\u001b[39m \u001b[38;5;241m=\u001b[39m \u001b[38;5;28;01mNone\u001b[39;00m,\n\u001b[1;32m    357\u001b[0m     max_num_processes: \u001b[38;5;28mint\u001b[39m \u001b[38;5;241m=\u001b[39m \u001b[38;5;28;01mNone\u001b[39;00m,\n\u001b[1;32m    358\u001b[0m     chunk_store: ChunkStore \u001b[38;5;241m=\u001b[39m dummy_chunk_store\n\u001b[1;32m    359\u001b[0m ) \u001b[38;5;241m-\u001b[39m\u001b[38;5;241m>\u001b[39m np\u001b[38;5;241m.\u001b[39mndarray:\n\u001b[1;32m    360\u001b[0m     \u001b[38;5;28;01mreturn\u001b[39;00m build_string_distance_matrix_by_chunks(\n\u001b[0;32m--> 361\u001b[0m         strings\u001b[38;5;241m=\u001b[39m[\u001b[38;5;28mstr\u001b[39m(seq\u001b[38;5;241m.\u001b[39mseq) \u001b[38;5;28;01mfor\u001b[39;00m seq \u001b[38;5;129;01min\u001b[39;00m seqs],\n\u001b[1;32m    362\u001b[0m         num_chunks\u001b[38;5;241m=\u001b[39mnum_chunks,\n\u001b[1;32m    363\u001b[0m         max_num_processes\u001b[38;5;241m=\u001b[39mmax_num_processes,\n\u001b[1;32m    364\u001b[0m         chunk_store\u001b[38;5;241m=\u001b[39mchunk_store\n\u001b[1;32m    365\u001b[0m     )\n",
      "\u001b[0;31mAttributeError\u001b[0m: 'str' object has no attribute 'seq'"
     ]
    }
   ],
   "source": [
    "monomers = {seq.id : seq for seq in SeqIO.parse(seq, \"fasta\")}\n",
    "\n",
    "#monomers_as_features = BED_file_to_features(bed)\n",
    "\n",
    "#monomers_as_seqs = [feature_to_seq(feature, references) for feature in monomers_as_features]\n",
    "\n",
    "#monomers_as_features = remove_overlapping_features(\n",
    "#    features=monomers_as_features,\n",
    "#    expected_feature_size=171,\n",
    "#    max_allowed_overlap_fraction=0.25\n",
    "#)\n",
    "\n",
    "monomer_dists = build_seqs_distance_matrix_by_chunks(monomers, num_chunks=1, chunk_store=FileSystemChunkStore(\"test_{row}_{col}\"))\n"
   ]
  },
  {
   "cell_type": "code",
   "execution_count": 4,
   "id": "92bb3285-676f-4438-9541-35d67c042496",
   "metadata": {},
   "outputs": [
    {
     "ename": "TypeError",
     "evalue": "__init__() got an unexpected keyword argument 'metric'",
     "output_type": "error",
     "traceback": [
      "\u001b[0;31m---------------------------------------------------------------------------\u001b[0m",
      "\u001b[0;31mTypeError\u001b[0m                                 Traceback (most recent call last)",
      "Input \u001b[0;32mIn [4]\u001b[0m, in \u001b[0;36m<cell line: 5>\u001b[0;34m()\u001b[0m\n\u001b[1;32m      2\u001b[0m \u001b[38;5;28;01mif\u001b[39;00m (curr_recursion_limit\u001b[38;5;241m<\u001b[39m\u001b[38;5;28mlen\u001b[39m(monomers_as_features)):\n\u001b[1;32m      3\u001b[0m     sys\u001b[38;5;241m.\u001b[39msetrecursionlimit(\u001b[38;5;28mlen\u001b[39m(monomers_as_features))\n\u001b[0;32m----> 5\u001b[0m clustering_res \u001b[38;5;241m=\u001b[39m \u001b[43mclustering_to_phylogeny\u001b[49m\u001b[43m(\u001b[49m\u001b[43mdist_matrix\u001b[49m\u001b[38;5;241;43m=\u001b[39;49m\u001b[43mmonomer_dists\u001b[49m\u001b[43m,\u001b[49m\n\u001b[1;32m      6\u001b[0m \u001b[43m    \u001b[49m\u001b[43mitems_as_seq_features\u001b[49m\u001b[38;5;241;43m=\u001b[39;49m\u001b[43mmonomers_as_features\u001b[49m\u001b[43m,\u001b[49m\n\u001b[1;32m      7\u001b[0m \u001b[43m    \u001b[49m\u001b[43mseq_references\u001b[49m\u001b[38;5;241;43m=\u001b[39;49m\u001b[43mreferences\u001b[49m\n\u001b[1;32m      8\u001b[0m \u001b[43m)\u001b[49m\n\u001b[1;32m      9\u001b[0m phylogeny \u001b[38;5;241m=\u001b[39m clustering_res\u001b[38;5;241m.\u001b[39mphylogeny\n",
      "File \u001b[0;32m~/recas/CENdetectHOR/scripts/clustering_to_phylogeny.py:311\u001b[0m, in \u001b[0;36mclustering_to_phylogeny\u001b[0;34m(clustering, items_vs_feature_array, items_as_seq_records, items_as_seq_features, seq_references, dist_matrix, compute_distances, linkage, metric, sort)\u001b[0m\n\u001b[1;32m    297\u001b[0m \u001b[38;5;28;01mdef\u001b[39;00m \u001b[38;5;21mclustering_to_phylogeny\u001b[39m(\n\u001b[1;32m    298\u001b[0m     clustering: AgglomerativeClustering \u001b[38;5;241m=\u001b[39m \u001b[38;5;28;01mNone\u001b[39;00m,\n\u001b[1;32m    299\u001b[0m     items_vs_feature_array \u001b[38;5;241m=\u001b[39m \u001b[38;5;28;01mNone\u001b[39;00m,\n\u001b[0;32m   (...)\u001b[0m\n\u001b[1;32m    307\u001b[0m     sort: \u001b[38;5;28mbool\u001b[39m \u001b[38;5;241m=\u001b[39m \u001b[38;5;28;01mTrue\u001b[39;00m\n\u001b[1;32m    308\u001b[0m ) \u001b[38;5;241m-\u001b[39m\u001b[38;5;241m>\u001b[39m ClusteringToPhylogenyResult:\n\u001b[1;32m    310\u001b[0m     \u001b[38;5;28;01mif\u001b[39;00m clustering \u001b[38;5;129;01mis\u001b[39;00m \u001b[38;5;28;01mNone\u001b[39;00m:\n\u001b[0;32m--> 311\u001b[0m         clustering \u001b[38;5;241m=\u001b[39m \u001b[43mAgglomerativeClustering\u001b[49m\u001b[43m(\u001b[49m\n\u001b[1;32m    312\u001b[0m \u001b[43m            \u001b[49m\u001b[43mmetric\u001b[49m\u001b[38;5;241;43m=\u001b[39;49m\u001b[43mmetric\u001b[49m\u001b[43m \u001b[49m\u001b[38;5;28;43;01mif\u001b[39;49;00m\u001b[43m \u001b[49m\u001b[43mdist_matrix\u001b[49m\u001b[43m \u001b[49m\u001b[38;5;129;43;01mis\u001b[39;49;00m\u001b[43m \u001b[49m\u001b[38;5;28;43;01mNone\u001b[39;49;00m\u001b[43m \u001b[49m\u001b[38;5;28;43;01melse\u001b[39;49;00m\u001b[43m \u001b[49m\u001b[38;5;124;43m'\u001b[39;49m\u001b[38;5;124;43mprecomputed\u001b[39;49m\u001b[38;5;124;43m'\u001b[39;49m\u001b[43m,\u001b[49m\n\u001b[1;32m    313\u001b[0m \u001b[43m            \u001b[49m\u001b[43mcompute_full_tree\u001b[49m\u001b[38;5;241;43m=\u001b[39;49m\u001b[38;5;28;43;01mTrue\u001b[39;49;00m\u001b[43m,\u001b[49m\n\u001b[1;32m    314\u001b[0m \u001b[43m            \u001b[49m\u001b[43mlinkage\u001b[49m\u001b[38;5;241;43m=\u001b[39;49m\u001b[43mlinkage\u001b[49m\u001b[43m,\u001b[49m\n\u001b[1;32m    315\u001b[0m \u001b[43m            \u001b[49m\u001b[43mcompute_distances\u001b[49m\u001b[43m \u001b[49m\u001b[38;5;241;43m=\u001b[39;49m\u001b[43m \u001b[49m\u001b[43mcompute_distances\u001b[49m\u001b[43m,\u001b[49m\n\u001b[1;32m    316\u001b[0m \u001b[43m            \u001b[49m\u001b[43mn_clusters\u001b[49m\u001b[38;5;241;43m=\u001b[39;49m\u001b[38;5;241;43m1\u001b[39;49m\u001b[43m)\u001b[49m\n\u001b[1;32m    319\u001b[0m     \u001b[38;5;28;01mif\u001b[39;00m (items_as_seq_features \u001b[38;5;129;01mis\u001b[39;00m \u001b[38;5;129;01mnot\u001b[39;00m \u001b[38;5;28;01mNone\u001b[39;00m \u001b[38;5;129;01mand\u001b[39;00m\n\u001b[1;32m    320\u001b[0m         seq_references \u001b[38;5;129;01mis\u001b[39;00m \u001b[38;5;129;01mnot\u001b[39;00m \u001b[38;5;28;01mNone\u001b[39;00m \u001b[38;5;129;01mand\u001b[39;00m\n\u001b[1;32m    321\u001b[0m         items_as_seq_records \u001b[38;5;129;01mis\u001b[39;00m \u001b[38;5;28;01mNone\u001b[39;00m\n\u001b[1;32m    322\u001b[0m     ):\n\u001b[1;32m    323\u001b[0m         items_as_seq_records \u001b[38;5;241m=\u001b[39m [\n\u001b[1;32m    324\u001b[0m             feature_to_seq(seq_feature, references\u001b[38;5;241m=\u001b[39mseq_references)\n\u001b[1;32m    325\u001b[0m             \u001b[38;5;28;01mfor\u001b[39;00m seq_feature \u001b[38;5;129;01min\u001b[39;00m items_as_seq_features\n\u001b[1;32m    326\u001b[0m         ]\n",
      "\u001b[0;31mTypeError\u001b[0m: __init__() got an unexpected keyword argument 'metric'"
     ]
    }
   ],
   "source": [
    "curr_recursion_limit=sys.getrecursionlimit()\n",
    "if (curr_recursion_limit<len(monomers_as_features)):\n",
    "    sys.setrecursionlimit(len(monomers_as_features))\n",
    "\n",
    "clustering_res = clustering_to_phylogeny(dist_matrix=monomer_dists,\n",
    "    items_as_seq_features=monomers_as_features,\n",
    "    seq_references=references\n",
    ")\n",
    "phylogeny = clustering_res.phylogeny\n"
   ]
  },
  {
   "cell_type": "code",
   "execution_count": null,
   "id": "5536ad14-398e-4d21-b1e5-9806a893ba77",
   "metadata": {},
   "outputs": [],
   "source": [
    "hor_tree_root = phylogeny_to_hor_tree(phylogeny, min_loops=5, allow_hor_overlap=False)\n",
    "\n",
    "hor_phylogeny = hor_tree_to_phylogeny(hor_tree_root)\n",
    "\n",
    "inversion_loops = find_inversion_loops(seq_features=monomers_as_features, min_loops=5)\n",
    "[str(loop_inSeq) for loop_inSeq in inversion_loops]\n",
    "\n",
    "phyloXml = Phyloxml(phylogenies=[phylogeny, hor_phylogeny], attributes=None)"
   ]
  },
  {
   "cell_type": "code",
   "execution_count": null,
   "id": "78ac1194-ab09-4e97-8cf5-7daecfb08e46",
   "metadata": {},
   "outputs": [],
   "source": []
  }
 ],
 "metadata": {
  "kernelspec": {
   "display_name": "Python 3 (ipykernel)",
   "language": "python",
   "name": "python3"
  },
  "language_info": {
   "codemirror_mode": {
    "name": "ipython",
    "version": 3
   },
   "file_extension": ".py",
   "mimetype": "text/x-python",
   "name": "python",
   "nbconvert_exporter": "python",
   "pygments_lexer": "ipython3",
   "version": "3.12.2"
  }
 },
 "nbformat": 4,
 "nbformat_minor": 5
}
