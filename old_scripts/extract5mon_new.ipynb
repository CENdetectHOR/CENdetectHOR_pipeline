{
 "cells": [
  {
   "cell_type": "code",
   "execution_count": 8,
   "id": "1969384c-97a5-436e-b6ad-e43f73676b84",
   "metadata": {},
   "outputs": [],
   "source": [
    "import numpy as np\n",
    "import re\n",
    "import random\n",
    "import argparse\n",
    "from Bio.Seq import Seq"
   ]
  },
  {
   "cell_type": "code",
   "execution_count": 15,
   "id": "1414820d-53c1-4181-9771-198eb5a117ad",
   "metadata": {},
   "outputs": [],
   "source": [
    "file=\"/Users/alessiadaponte/Desktop/HSA_test_chr11_5mer/chr3/HSA.chr3.fasta\"\n",
    "wind_file=\"/Users/alessiadaponte/Desktop/HSA_test_chr11_5mer/chr3/HSA_chr3.wind.filtered.bed\"\n",
    "consensus=\"/Users/alessiadaponte/Desktop/HSA_test_chr11_5mer/HSAcons.fasta\"\n",
    "out=\"/Users/alessiadaponte/Desktop/HSA_test_chr11_5mer/test.mons.fasta\""
   ]
  },
  {
   "cell_type": "code",
   "execution_count": 16,
   "id": "0c11c88a-b93d-4986-a5d6-66591bb9479c",
   "metadata": {},
   "outputs": [],
   "source": [
    "def mon_extr(seq, mon_start, rev_mon_start):\n",
    "    start_list=[]\n",
    "    start_list_rev=[]\n",
    "    mon_list=[]\n",
    "    mon_list_r=[]\n",
    "    for b,base in enumerate(seq):\n",
    "        checkend=int(b)+6\n",
    "        start2check=seq[int(b):int(checkend)]\n",
    "        if start2check==mon_start:\n",
    "            start_list.append(b)\n",
    "        elif start2check==rev_mon_start:\n",
    "            start_list_rev.append(b)\n",
    "    for t,temp in enumerate(start_list):\n",
    "        if t==0:\n",
    "            prev=int(temp)\n",
    "        else:\n",
    "            mon2app=seq[int(prev):int(temp)]\n",
    "            mon_list.append(mon2app)\n",
    "            prev=temp\n",
    "    fin_mon_list=[x for x in mon_list if len(x)==mon]\n",
    "    for t_r,temp_r in enumerate(start_list_rev):\n",
    "        if t_r==0:\n",
    "            prev_r=int(temp_r)\n",
    "        else:\n",
    "            mon2app_r=seq[int(prev_r):int(temp_r)]\n",
    "            mon_list_r.append(mon2app_r)\n",
    "            prev_r=temp_r\n",
    "    fin_mon_list_r=[x for x in mon_list_r if len(x)==mon]\n",
    "    if len(fin_mon_list)<len(fin_mon_list_r):\n",
    "        fin_mon_list=[y.reverse_complement() for y in fin_mon_list_r]\n",
    "    if len(fin_mon_list)>5:\n",
    "        random_seq=random.sample(fin_mon_list, 5)\n",
    "    else:\n",
    "        random_seq=[]\n",
    "    return(random_seq)"
   ]
  },
  {
   "cell_type": "code",
   "execution_count": 17,
   "id": "087ce1c5-91a9-4f48-80e3-e49a814c7cdb",
   "metadata": {
    "tags": []
   },
   "outputs": [],
   "source": [
    "with open(consensus, \"r\") as c:\n",
    "    for b,line in enumerate(c):\n",
    "        if b==0:\n",
    "            continue\n",
    "        elif b==1:\n",
    "            cons=Seq(line)\n",
    "\n",
    "mon=len(cons)\n",
    "mon_start=cons[0:6]\n",
    "rev_cons=cons.reverse_complement()\n",
    "rev_mon_start=rev_cons[1:7]\n",
    "\n",
    "seqs=[]\n",
    "with open(wind_file, \"r\") as wind:\n",
    "    for w in wind:\n",
    "        w=w.strip().split(\"\\t\")\n",
    "        seq2check=[w[1],w[2]]\n",
    "        seqs.append(seq2check)\n",
    "\n",
    "mon2w=[]\n",
    "full_seq=[]\n",
    "with open(file, \"r\") as f:\n",
    "    for l,line in enumerate(f):\n",
    "        if l==0:\n",
    "            line=line.strip()\n",
    "            line=re.split(':|-|>',line)\n",
    "            chrom=line[1]\n",
    "            start=line[2]\n",
    "            end=line[3]\n",
    "        else:\n",
    "            full_seq.append(line.strip())\n",
    "full_seq=\"\".join(full_seq)\n",
    "for s in seqs:\n",
    "    rel_start=int(s[0])-int(start)\n",
    "    rel_end=int(s[1])-int(start)\n",
    "    seq=Seq(full_seq[rel_start:rel_end])\n",
    "    ran_mon=mon_extr(seq, mon_start, rev_mon_start)\n",
    "    mon2w.append(ran_mon)"
   ]
  },
  {
   "cell_type": "code",
   "execution_count": 18,
   "id": "61ae428a-94b9-40b7-a271-a1ea172a2758",
   "metadata": {},
   "outputs": [],
   "source": [
    "with open(out, \"w\") as o:\n",
    "    mon2w=[x for y in mon2w for x in y if len(y)>0]\n",
    "    fin_ran_ls = random_seq = random.sample(mon2w, 5)\n",
    "    for r, ran in enumerate(fin_ran_ls):\n",
    "        o.write(\">\" + chrom + \"_mon\" + str(r + 1) + \"\\n\")\n",
    "        o.write(str(ran) + \"\\n\")"
   ]
  },
  {
   "cell_type": "code",
   "execution_count": null,
   "id": "21eb28b0-e9b7-489a-a8e0-f668aa8d46b7",
   "metadata": {},
   "outputs": [],
   "source": []
  },
  {
   "cell_type": "code",
   "execution_count": null,
   "id": "c858ff04-6165-4aca-a556-9ba6c34fbad8",
   "metadata": {},
   "outputs": [],
   "source": []
  },
  {
   "cell_type": "code",
   "execution_count": 1,
   "id": "871a9646-314a-46fd-9228-9126424c5314",
   "metadata": {},
   "outputs": [],
   "source": [
    "ls=[171,340,171,68,90,171,50,68]"
   ]
  },
  {
   "cell_type": "code",
   "execution_count": 3,
   "id": "2e0cb99c-a340-4e02-b167-ccf3705440e2",
   "metadata": {},
   "outputs": [],
   "source": [
    "uniq_ls=[]\n",
    "for n in ls: \n",
    "    if n not in uniq_ls:\n",
    "        uniq_ls.append(n)"
   ]
  },
  {
   "cell_type": "code",
   "execution_count": 4,
   "id": "1cac3ab0-e40c-4ea9-a20c-1e4287ecb23d",
   "metadata": {},
   "outputs": [
    {
     "data": {
      "text/plain": [
       "[171, 340, 68, 90, 50]"
      ]
     },
     "execution_count": 4,
     "metadata": {},
     "output_type": "execute_result"
    }
   ],
   "source": [
    "uniq_ls"
   ]
  },
  {
   "cell_type": "code",
   "execution_count": null,
   "id": "6a03840c-dcc4-48a0-adf1-0f670d07655b",
   "metadata": {},
   "outputs": [],
   "source": [
    "for m in uniq_ls:\n",
    "    for record in data:\n",
    "        val=comp_mon(record[3], m)\n",
    "        key=m"
   ]
  }
 ],
 "metadata": {
  "kernelspec": {
   "display_name": "Python 3 (ipykernel)",
   "language": "python",
   "name": "python3"
  },
  "language_info": {
   "codemirror_mode": {
    "name": "ipython",
    "version": 3
   },
   "file_extension": ".py",
   "mimetype": "text/x-python",
   "name": "python",
   "nbconvert_exporter": "python",
   "pygments_lexer": "ipython3",
   "version": "3.12.2"
  }
 },
 "nbformat": 4,
 "nbformat_minor": 5
}
