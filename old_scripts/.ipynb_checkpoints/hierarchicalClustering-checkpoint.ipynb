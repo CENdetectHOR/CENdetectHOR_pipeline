{
 "cells": [
  {
   "cell_type": "code",
   "execution_count": 1,
   "metadata": {},
   "outputs": [],
   "source": [
    "import numpy as np\n",
    "import matplotlib.pyplot as plt\n",
    "from Bio import SeqIO\n",
    "from Bio import Phylo\n",
    "from featureUtils import BED_file_to_features, feature_to_seq\n",
    "from Bio.Phylo.PhyloXML import Phyloxml\n",
    "from hierarchical_clustering import hierarchical_clustering, build_phylogeny, get_matrices, save_phylogeny, save_matrices, load_phylogeny, load_matrices, get_clustering_matrices\n",
    "from matrix_utils import load_matrix_from_triu"
   ]
  },
  {
   "cell_type": "code",
   "execution_count": 2,
   "metadata": {},
   "outputs": [],
   "source": [
    "references = {seq.id : seq for seq in SeqIO.parse(\"./data/monomers/chr2_centromere_plus2Mb.fasta\", \"fasta\")}"
   ]
  },
  {
   "cell_type": "code",
   "execution_count": 3,
   "metadata": {},
   "outputs": [],
   "source": [
    "monomers_as_features = BED_file_to_features(\"./data/monomers/chr2_StringDecMon2extr_noMorgante.bed\")"
   ]
  },
  {
   "cell_type": "code",
   "execution_count": 4,
   "metadata": {},
   "outputs": [],
   "source": [
    "#sample_size = len(monomers_as_features)\n",
    "#sample_size = 10"
   ]
  },
  {
   "cell_type": "code",
   "execution_count": 5,
   "metadata": {},
   "outputs": [],
   "source": [
    "#monomers_as_features = monomers_as_features[0:sample_size]"
   ]
  },
  {
   "cell_type": "code",
   "execution_count": 6,
   "metadata": {},
   "outputs": [],
   "source": [
    "monomers_as_seqs = [feature_to_seq(feature, references) for feature in monomers_as_features]"
   ]
  },
  {
   "cell_type": "code",
   "execution_count": 7,
   "metadata": {},
   "outputs": [],
   "source": [
    "dist_matrix = load_matrix_from_triu('data/dist_matrix_triu.npy')"
   ]
  },
  {
   "cell_type": "code",
   "execution_count": 9,
   "metadata": {},
   "outputs": [
    {
     "data": {
      "text/plain": [
       "array([[ 0, 14, 10, ..., 42, 48, 65],\n",
       "       [14,  0,  8, ..., 47, 49, 65],\n",
       "       [10,  8,  0, ..., 45, 47, 68],\n",
       "       ...,\n",
       "       [42, 47, 45, ...,  0, 26, 69],\n",
       "       [48, 49, 47, ..., 26,  0, 70],\n",
       "       [65, 65, 68, ..., 69, 70,  0]], dtype=uint8)"
      ]
     },
     "execution_count": 9,
     "metadata": {},
     "output_type": "execute_result"
    }
   ],
   "source": [
    "dist_matrix"
   ]
  },
  {
   "cell_type": "code",
   "execution_count": 10,
   "metadata": {},
   "outputs": [],
   "source": [
    "#dist_matrix = dist_matrix[0:sample_size,0:sample_size]"
   ]
  },
  {
   "cell_type": "code",
   "execution_count": 11,
   "metadata": {},
   "outputs": [],
   "source": [
    "phylogeny = hierarchical_clustering(dist_matrix=dist_matrix)\n",
    "save_phylogeny(phylogeny=phylogeny, filename='data/phylo')"
   ]
  },
  {
   "cell_type": "code",
   "execution_count": 12,
   "metadata": {},
   "outputs": [
    {
     "data": {
      "text/plain": [
       "1"
      ]
     },
     "execution_count": 12,
     "metadata": {},
     "output_type": "execute_result"
    }
   ],
   "source": [
    "phyloXml = Phyloxml(phylogenies=[build_phylogeny(simple_phylogeny=phylogeny, features=monomers_as_features)], attributes=None)\n",
    "Phylo.write(phyloXml, 'data/phylogeny.xml', format='phyloxml')"
   ]
  }
 ],
 "metadata": {
  "kernelspec": {
   "display_name": "Python 3 (ipykernel)",
   "language": "python",
   "name": "python3"
  },
  "language_info": {
   "codemirror_mode": {
    "name": "ipython",
    "version": 3
   },
   "file_extension": ".py",
   "mimetype": "text/x-python",
   "name": "python",
   "nbconvert_exporter": "python",
   "pygments_lexer": "ipython3",
   "version": "3.9.12"
  }
 },
 "nbformat": 4,
 "nbformat_minor": 4
}
